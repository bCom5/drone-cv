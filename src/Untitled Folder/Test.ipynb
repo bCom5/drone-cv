{
 "cells": [
  {
   "cell_type": "code",
   "execution_count": 38,
   "metadata": {},
   "outputs": [],
   "source": [
    "# orb brute force works\n",
    "import numpy as np\n",
    "import cv2\n",
    "frame = cv2.imread('../../../drone-cv2\\img\\drone_dataset\\drone54.jpg')\n",
    "orb = cv2.ORB_create(nfeatures=500)\n",
    "#orb = cv2.ORB_create()\n",
    "#cap.set(cv2.CAP_PROP_POS_FRAMES, 1000)\n",
    "scale = 1\n",
    "frame = cv2.resize(frame, (0,0), fx=1 / scale, fy=1 / scale) \n",
    "whole = 100 // scale\n",
    "y, x = 230 // scale, 550 // scale\n",
    "#y, x = 430 // scale, 850 // scale\n",
    "crop = frame[y:y + whole, x:x + whole]\n",
    "kp, des = orb.detectAndCompute(frame,None)\n",
    "img = cv2.drawKeypoints(frame,kp,None,color=(0,255,0), flags=0)\n",
    "cv2.imshow('img', img)\n",
    "cv2.waitKey(0)\n",
    "cv2.destroyAllWindows()"
   ]
  },
  {
   "cell_type": "code",
   "execution_count": 21,
   "metadata": {},
   "outputs": [
    {
     "data": {
      "text/plain": [
       "(array([[  5,  92, 125, ..., 243,  69, 115],\n",
       "        [ 70, 100, 145, ..., 117,  39, 246],\n",
       "        [128, 169,   3, ...,  40,  23, 121],\n",
       "        ...,\n",
       "        [242, 239,  97, ..., 166,   7, 121],\n",
       "        [ 96, 193, 110, ..., 130,  86, 250],\n",
       "        [130, 188, 121, ...,   0, 135, 251]], dtype=uint8), (697, 32))"
      ]
     },
     "execution_count": 21,
     "metadata": {},
     "output_type": "execute_result"
    }
   ],
   "source": [
    "des, des.shape"
   ]
  },
  {
   "cell_type": "code",
   "execution_count": 27,
   "metadata": {},
   "outputs": [
    {
     "data": {
      "text/plain": [
       "['__class__',\n",
       " '__delattr__',\n",
       " '__dir__',\n",
       " '__doc__',\n",
       " '__eq__',\n",
       " '__format__',\n",
       " '__ge__',\n",
       " '__getattribute__',\n",
       " '__gt__',\n",
       " '__hash__',\n",
       " '__init__',\n",
       " '__init_subclass__',\n",
       " '__le__',\n",
       " '__lt__',\n",
       " '__ne__',\n",
       " '__new__',\n",
       " '__reduce__',\n",
       " '__reduce_ex__',\n",
       " '__repr__',\n",
       " '__setattr__',\n",
       " '__sizeof__',\n",
       " '__str__',\n",
       " '__subclasshook__',\n",
       " 'angle',\n",
       " 'class_id',\n",
       " 'octave',\n",
       " 'pt',\n",
       " 'response',\n",
       " 'size']"
      ]
     },
     "execution_count": 27,
     "metadata": {},
     "output_type": "execute_result"
    }
   ],
   "source": [
    "dir(kp[0])"
   ]
  },
  {
   "cell_type": "code",
   "execution_count": 35,
   "metadata": {},
   "outputs": [
    {
     "data": {
      "text/plain": [
       "31.0"
      ]
     },
     "execution_count": 35,
     "metadata": {},
     "output_type": "execute_result"
    }
   ],
   "source": [
    "kp[2].size"
   ]
  },
  {
   "cell_type": "code",
   "execution_count": 39,
   "metadata": {},
   "outputs": [],
   "source": [
    "import tensorflow"
   ]
  },
  {
   "cell_type": "code",
   "execution_count": 40,
   "metadata": {},
   "outputs": [
    {
     "name": "stderr",
     "output_type": "stream",
     "text": [
      "C:\\Users\\btl78\\Anaconda3\\lib\\site-packages\\h5py\\__init__.py:36: FutureWarning: Conversion of the second argument of issubdtype from `float` to `np.floating` is deprecated. In future, it will be treated as `np.float64 == np.dtype(float).type`.\n",
      "  from ._conv import register_converters as _register_converters\n",
      "Using TensorFlow backend.\n"
     ]
    }
   ],
   "source": [
    "import keras"
   ]
  },
  {
   "cell_type": "code",
   "execution_count": null,
   "metadata": {},
   "outputs": [],
   "source": []
  }
 ],
 "metadata": {
  "kernelspec": {
   "display_name": "Python 3",
   "language": "python",
   "name": "python3"
  },
  "language_info": {
   "codemirror_mode": {
    "name": "ipython",
    "version": 3
   },
   "file_extension": ".py",
   "mimetype": "text/x-python",
   "name": "python",
   "nbconvert_exporter": "python",
   "pygments_lexer": "ipython3",
   "version": "3.6.4"
  }
 },
 "nbformat": 4,
 "nbformat_minor": 2
}

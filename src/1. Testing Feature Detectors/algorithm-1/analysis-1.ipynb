{
 "cells": [
  {
   "cell_type": "code",
   "execution_count": 1,
   "metadata": {},
   "outputs": [],
   "source": [
    "import cv2\n",
    "import numpy as np"
   ]
  },
  {
   "cell_type": "code",
   "execution_count": 68,
   "metadata": {},
   "outputs": [
    {
     "name": "stdout",
     "output_type": "stream",
     "text": [
      "True\n"
     ]
    }
   ],
   "source": [
    "image = cv2.imread('../../../img/original/img7.jpg')\n",
    "print(isinstance(image, np.ndarray))\n",
    "# image = cv2.cvtColor(image, cv2.COLOR_BGR2RGB)\n",
    "image = cv2.resize(image, (0,0), fx=0.5, fy=0.5)\n",
    "image_blur = cv2.GaussianBlur(image, (7, 7), 0)\n",
    "hsv = cv2.cvtColor(image_blur, cv2.COLOR_RGB2HSV)\n",
    "lower_range = np.array([150, 0, 255 - 60])\n",
    "upper_range = np.array([179, 255, 255])   \n",
    "mask = cv2.inRange(hsv, lower_range, upper_range)\n",
    "result2 = cv2.bitwise_and(image, image, mask=mask)\n",
    "cv2.imshow('image', image)\n",
    "cv2.imshow('result2', result2)\n",
    "cv2.waitKey(0)        \n",
    "cv2.destroyAllWindows()"
   ]
  },
  {
   "cell_type": "code",
   "execution_count": 14,
   "metadata": {},
   "outputs": [
    {
     "data": {
      "text/plain": [
       "True"
      ]
     },
     "execution_count": 14,
     "metadata": {},
     "output_type": "execute_result"
    }
   ],
   "source": [
    "image = cv2.imread('../../../img/original/img7.jpg')\n",
    "isinstance(image, np.ndarray)"
   ]
  },
  {
   "cell_type": "code",
   "execution_count": 31,
   "metadata": {},
   "outputs": [
    {
     "name": "stdout",
     "output_type": "stream",
     "text": [
      "[152 154 105]\n"
     ]
    }
   ],
   "source": [
    "# [105 154 152]\n",
    "# rgb [152 154 105]\n",
    "print(image[472, 230])"
   ]
  },
  {
   "cell_type": "code",
   "execution_count": 32,
   "metadata": {},
   "outputs": [
    {
     "name": "stdout",
     "output_type": "stream",
     "text": [
      "[141 146 102]\n"
     ]
    }
   ],
   "source": [
    "# [102 146 141]\n",
    "# rgb [141 146 102]\n",
    "print(image[440, 250])"
   ]
  },
  {
   "cell_type": "code",
   "execution_count": null,
   "metadata": {
    "collapsed": true
   },
   "outputs": [],
   "source": []
  }
 ],
 "metadata": {
  "kernelspec": {
   "display_name": "Python 2",
   "language": "python",
   "name": "python2"
  },
  "language_info": {
   "codemirror_mode": {
    "name": "ipython",
    "version": 2
   },
   "file_extension": ".py",
   "mimetype": "text/x-python",
   "name": "python",
   "nbconvert_exporter": "python",
   "pygments_lexer": "ipython2",
   "version": "2.7.14"
  }
 },
 "nbformat": 4,
 "nbformat_minor": 2
}

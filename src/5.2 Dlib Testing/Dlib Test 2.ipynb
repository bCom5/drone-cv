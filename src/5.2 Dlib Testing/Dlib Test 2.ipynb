{
 "cells": [
  {
   "cell_type": "code",
   "execution_count": 1,
   "metadata": {},
   "outputs": [],
   "source": [
    "import cv2\n",
    "import dlib\n",
    "\n",
    "def run_ex(num, x, y, size):\n",
    "    cap = cv2.VideoCapture('../../vid/swarm_drone/swarm_drone{}.mp4'.format(num))\n",
    "\n",
    "    # Create the correlation tracker - the object needs to be initialized\n",
    "    # before it can be used\n",
    "    tracker = dlib.correlation_tracker()\n",
    "\n",
    "    #win = dlib.image_window()\n",
    "    # We will track the frames as we load them off of disk\n",
    "    ret, frame = cap.read()\n",
    "    tracker.start_track(frame, dlib.rectangle(x, y, x + size, y + size))\n",
    "    rect = tracker.get_position()\n",
    "    pt1 = (int(rect.left()), int(rect.top()))\n",
    "    pt2 = (int(rect.right()), int(rect.bottom()))\n",
    "    cv2.rectangle(frame, pt1, pt2, (0, 255, 0), 2)\n",
    "    cv2.imshow('frame', frame)\n",
    "    cv2.waitKey(0)\n",
    "    cv2.destroyAllWindows()\n",
    "\n",
    "    run_track(cap, tracker)\n",
    "    \n",
    "def run_track(cap, tracker):\n",
    "    while True:\n",
    "        ret, frame = cap.read()\n",
    "        wK = cv2.waitKey(60) & 0xff\n",
    "        if ret == False or wK == 27:\n",
    "            break\n",
    "\n",
    "        tracker.update(frame)\n",
    "        rect = tracker.get_position()\n",
    "        pt1 = (int(rect.left()), int(rect.top()))\n",
    "        pt2 = (int(rect.right()), int(rect.bottom()))\n",
    "        cv2.rectangle(frame, pt1, pt2, (0, 255, 0), 2)\n",
    "        cv2.imshow('frame', frame)\n",
    "    cv2.destroyAllWindows()\n",
    "    cap.release()"
   ]
  },
  {
   "cell_type": "code",
   "execution_count": 2,
   "metadata": {},
   "outputs": [],
   "source": [
    "#1\n",
    "run_ex(num=1, x=570, y=250, size=60)"
   ]
  },
  {
   "cell_type": "code",
   "execution_count": 3,
   "metadata": {},
   "outputs": [],
   "source": [
    "#2\n",
    "run_ex(num=2, x=500, y=150, size=100)"
   ]
  },
  {
   "cell_type": "code",
   "execution_count": 4,
   "metadata": {},
   "outputs": [],
   "source": [
    "#3\n",
    "run_ex(num=3, x=460, y=250, size=100)"
   ]
  },
  {
   "cell_type": "code",
   "execution_count": 27,
   "metadata": {},
   "outputs": [],
   "source": [
    "#4\n",
    "run_ex(num=4, x=150, y=150, size=100)"
   ]
  },
  {
   "cell_type": "code",
   "execution_count": 5,
   "metadata": {},
   "outputs": [],
   "source": [
    "#5\n",
    "run_ex(num=5, x=510, y=190, size=75)"
   ]
  },
  {
   "cell_type": "code",
   "execution_count": null,
   "metadata": {},
   "outputs": [],
   "source": [
    "#6\n",
    "run_ex(num=6, x=665, y=265, size=75)"
   ]
  },
  {
   "cell_type": "code",
   "execution_count": 6,
   "metadata": {},
   "outputs": [],
   "source": [
    "#7\n",
    "run_ex(num=7, x=360, y=200, size=100)"
   ]
  },
  {
   "cell_type": "code",
   "execution_count": 7,
   "metadata": {},
   "outputs": [],
   "source": [
    "#8\n",
    "run_ex(num=8, x=440, y=380, size=75)"
   ]
  },
  {
   "cell_type": "code",
   "execution_count": null,
   "metadata": {},
   "outputs": [],
   "source": []
  }
 ],
 "metadata": {
  "kernelspec": {
   "display_name": "Python 3",
   "language": "python",
   "name": "python3"
  },
  "language_info": {
   "codemirror_mode": {
    "name": "ipython",
    "version": 3
   },
   "file_extension": ".py",
   "mimetype": "text/x-python",
   "name": "python",
   "nbconvert_exporter": "python",
   "pygments_lexer": "ipython3",
   "version": "3.6.4"
  }
 },
 "nbformat": 4,
 "nbformat_minor": 2
}

{
 "cells": [
  {
   "cell_type": "code",
   "execution_count": 8,
   "metadata": {},
   "outputs": [],
   "source": [
    "import numpy as np\n",
    "import cv2\n",
    "import os\n",
    "tot_des = []\n",
    "files = [file for file in os.listdir('../img/drone_dataset3/') if '.jpg' in file]\n",
    "orb = cv2.ORB_create(nfeatures=1000)\n",
    "for file in files:\n",
    "    frame = cv2.imread('../img/drone_dataset3/' + file)\n",
    "    kp, des = orb.detectAndCompute(frame,None)\n",
    "    tot_des.append(des)\n",
    "    img = cv2.drawKeypoints(frame,kp,None,color=(0,255,0), flags=0)\n",
    "    #cv2.imshow('img', img)\n",
    "    #cv2.waitKey(0)\n",
    "    #cv2.destroyAllWindows()\n",
    "cv2.destroyAllWindows()\n",
    "#cap.release()"
   ]
  },
  {
   "cell_type": "code",
   "execution_count": 2,
   "metadata": {},
   "outputs": [],
   "source": [
    "import numpy as np\n",
    "import cv2\n",
    "i = 0\n",
    "img = cv2.imread('../img/drone_dataset/drone' + str(i) + '.jpg')\n",
    "cv2.imshow('img', img)\n",
    "cv2.waitKey(0)\n",
    "cv2.destroyAllWindows()"
   ]
  },
  {
   "cell_type": "code",
   "execution_count": 1,
   "metadata": {},
   "outputs": [],
   "source": [
    "import os\n",
    "files = [file for file in os.listdir('../img/label_drone/') if '.jpg' in file]"
   ]
  },
  {
   "cell_type": "code",
   "execution_count": 2,
   "metadata": {
    "scrolled": true
   },
   "outputs": [
    {
     "data": {
      "text/plain": [
       "['cheerson100.jpg',\n",
       " 'cheerson10000.jpg',\n",
       " 'cheerson1100.jpg',\n",
       " 'cheerson1200.jpg',\n",
       " 'cheerson12500.jpg',\n",
       " 'cheerson12600.jpg',\n",
       " 'cheerson12800.jpg',\n",
       " 'cheerson12900.jpg',\n",
       " 'cheerson13000.jpg',\n",
       " 'cheerson15300.jpg',\n",
       " 'cheerson15400.jpg',\n",
       " 'cheerson15500.jpg',\n",
       " 'cheerson16800.jpg',\n",
       " 'cheerson1800.jpg',\n",
       " 'cheerson200.jpg',\n",
       " 'cheerson3500.jpg',\n",
       " 'cheerson3600.jpg',\n",
       " 'cheerson3700.jpg',\n",
       " 'cheerson500.jpg',\n",
       " 'cheerson5500.jpg',\n",
       " 'cheerson6700.jpg',\n",
       " 'cheerson7400.jpg',\n",
       " 'cheerson7700.jpg',\n",
       " 'cheerson7800.jpg',\n",
       " 'cheerson8100.jpg',\n",
       " 'cheerson8200.jpg',\n",
       " 'cheerson8300.jpg',\n",
       " 'cheerson8700.jpg',\n",
       " 'cheerson8800.jpg',\n",
       " 'cheerson8900.jpg',\n",
       " 'droning_on100.jpg',\n",
       " 'droning_on16700.jpg',\n",
       " 'droning_on29400.jpg',\n",
       " 'droning_on3100.jpg',\n",
       " 'droning_on31400.jpg',\n",
       " 'droning_on31800.jpg',\n",
       " 'droning_on32200.jpg',\n",
       " 'droning_on32400.jpg',\n",
       " 'droning_on32900.jpg',\n",
       " 'droning_on35400.jpg',\n",
       " 'droning_on36500.jpg',\n",
       " 'droning_on36700.jpg',\n",
       " 'droning_on37500.jpg',\n",
       " 'droning_on38300.jpg',\n",
       " 'droning_on39000.jpg',\n",
       " 'droning_on39800.jpg',\n",
       " 'droning_on41800.jpg',\n",
       " 'droning_on42000.jpg',\n",
       " 'droning_on42200.jpg',\n",
       " 'droning_on42500.jpg',\n",
       " 'droning_on43100.jpg',\n",
       " 'droning_on44700.jpg',\n",
       " 'droning_on45300.jpg',\n",
       " 'droning_on45800.jpg',\n",
       " 'droning_on47200.jpg',\n",
       " 'droning_on47400.jpg',\n",
       " 'droning_on48300.jpg',\n",
       " 'droning_on500.jpg',\n",
       " 'droning_on5600.jpg',\n",
       " 'droning_on6300.jpg',\n",
       " 'droning_on6400.jpg',\n",
       " 'droning_on6500.jpg',\n",
       " 'droning_on6600.jpg',\n",
       " 'droning_on8000.jpg',\n",
       " 'swarm_drone_skip0.jpg',\n",
       " 'swarm_drone_skip100.jpg',\n",
       " 'swarm_drone_skip1000.jpg',\n",
       " 'swarm_drone_skip1100.jpg',\n",
       " 'swarm_drone_skip1200.jpg',\n",
       " 'swarm_drone_skip1300.jpg',\n",
       " 'swarm_drone_skip1400.jpg',\n",
       " 'swarm_drone_skip1500.jpg',\n",
       " 'swarm_drone_skip1600.jpg',\n",
       " 'swarm_drone_skip1700.jpg',\n",
       " 'swarm_drone_skip1800.jpg',\n",
       " 'swarm_drone_skip1900.jpg',\n",
       " 'swarm_drone_skip200.jpg',\n",
       " 'swarm_drone_skip2000.jpg',\n",
       " 'swarm_drone_skip2100.jpg',\n",
       " 'swarm_drone_skip2200.jpg',\n",
       " 'swarm_drone_skip2300.jpg',\n",
       " 'swarm_drone_skip2400.jpg',\n",
       " 'swarm_drone_skip2500.jpg',\n",
       " 'swarm_drone_skip2600.jpg',\n",
       " 'swarm_drone_skip2700.jpg',\n",
       " 'swarm_drone_skip2800.jpg',\n",
       " 'swarm_drone_skip2900.jpg',\n",
       " 'swarm_drone_skip300.jpg',\n",
       " 'swarm_drone_skip3000.jpg',\n",
       " 'swarm_drone_skip3100.jpg',\n",
       " 'swarm_drone_skip3200.jpg',\n",
       " 'swarm_drone_skip3300.jpg',\n",
       " 'swarm_drone_skip3500.jpg',\n",
       " 'swarm_drone_skip3600.jpg',\n",
       " 'swarm_drone_skip400.jpg',\n",
       " 'swarm_drone_skip500.jpg',\n",
       " 'swarm_drone_skip600.jpg',\n",
       " 'swarm_drone_skip700.jpg',\n",
       " 'swarm_drone_skip800.jpg',\n",
       " 'swarm_drone_skip900.jpg']"
      ]
     },
     "execution_count": 2,
     "metadata": {},
     "output_type": "execute_result"
    }
   ],
   "source": [
    "files"
   ]
  },
  {
   "cell_type": "code",
   "execution_count": 14,
   "metadata": {},
   "outputs": [
    {
     "data": {
      "text/plain": [
       "array([[ 61,  28, 148, ..., 125,  60,  95],\n",
       "       [222, 145, 118, ..., 160, 232,   3],\n",
       "       [181, 123,  55, ...,  44, 210, 101],\n",
       "       ...,\n",
       "       [ 36, 205,  41, ...,  91, 198, 194],\n",
       "       [120,  77,  22, ..., 112, 110,  10],\n",
       "       [222, 169, 225, ..., 112, 151, 114]], dtype=uint8)"
      ]
     },
     "execution_count": 14,
     "metadata": {},
     "output_type": "execute_result"
    }
   ],
   "source": [
    "tot_des"
   ]
  },
  {
   "cell_type": "code",
   "execution_count": 16,
   "metadata": {},
   "outputs": [],
   "source": [
    "import pickle\n",
    "pickle.dump(tot_des, open('tot_des.p', 'wb'))"
   ]
  },
  {
   "cell_type": "code",
   "execution_count": 17,
   "metadata": {},
   "outputs": [],
   "source": [
    "inp = pickle.load(open('tot_des.p', 'rb'))"
   ]
  },
  {
   "cell_type": "code",
   "execution_count": 24,
   "metadata": {},
   "outputs": [
    {
     "data": {
      "text/plain": [
       "(1000, 32)"
      ]
     },
     "execution_count": 24,
     "metadata": {},
     "output_type": "execute_result"
    }
   ],
   "source": [
    "tot_des[3].shape"
   ]
  },
  {
   "cell_type": "code",
   "execution_count": null,
   "metadata": {},
   "outputs": [],
   "source": []
  }
 ],
 "metadata": {
  "kernelspec": {
   "display_name": "Python 3",
   "language": "python",
   "name": "python3"
  },
  "language_info": {
   "codemirror_mode": {
    "name": "ipython",
    "version": 3
   },
   "file_extension": ".py",
   "mimetype": "text/x-python",
   "name": "python",
   "nbconvert_exporter": "python",
   "pygments_lexer": "ipython3",
   "version": "3.6.4"
  }
 },
 "nbformat": 4,
 "nbformat_minor": 2
}

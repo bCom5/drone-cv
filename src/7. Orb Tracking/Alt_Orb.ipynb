{
 "cells": [
  {
   "cell_type": "code",
   "execution_count": null,
   "metadata": {},
   "outputs": [],
   "source": [
    "# orb brute force works\n",
    "import numpy as np\n",
    "import cv2\n",
    "\n",
    "MIN_MATCH_COUNT = 10\n",
    "\n",
    "cap = cv2.VideoCapture('../../vid/swarm_drone.mp4')\n",
    "orb = cv2.ORB_create(nfeatures=np.int(1e3))\n",
    "#orb = cv2.ORB_create()\n",
    "ret, frame = cap.read()\n",
    "scale = 1\n",
    "frame = cv2.resize(frame, (0,0), fx=1 / scale, fy=1 / scale) \n",
    "whole = 100 // scale\n",
    "y, x = 230 // scale, 550 // scale\n",
    "crop = frame[y:y + whole, x:x + whole]\n",
    "past_y, past_x = y, x\n",
    "kp_prev, des_prev = orb.detectAndCompute(crop,None)\n",
    "crop = cv2.drawKeypoints(crop, kp_prev, None, color=(0,255,0), flags=0)\n",
    "cv2.imshow('crop', crop)\n",
    "cv2.waitKey(0)\n",
    "cv2.destroyAllWindows()\n",
    "\n",
    "while True:\n",
    "    ret, frame = cap.read()\n",
    "    \n",
    "    if ret == True:\n",
    "        frame = cv2.resize(frame, (0,0), fx=1 / scale, fy=1 / scale)\n",
    "        cur_crop = frame[past_y:past_y + whole, past_x:past_x + whole]\n",
    "        cv2.imshow('cur_crop', cur_crop)\n",
    "        kp_cur, des_cur = orb.detectAndCompute(cur_crop, None)\n",
    "        \n",
    "        \n",
    "        # create BFMatcher object\n",
    "        bf = cv2.BFMatcher(cv2.NORM_HAMMING, crossCheck=True)\n",
    "        # Match descriptors.\n",
    "        matches = bf.match(des_prev,des_cur)\n",
    "        # Sort them in the order of their distance.\n",
    "        matches = sorted(matches, key = lambda x:x.distance)\n",
    "        out = cv2.drawMatches(crop,kp_prev,cur_crop,kp_cur,matches[:10], None, flags=2)\n",
    "        cv2.imshow('out', out)\n",
    "        size = 100\n",
    "        top_matches = matches[:size]\n",
    "        arr = np.zeros((2, size))\n",
    "        for i, m in enumerate(top_matches):\n",
    "            x, y = kp_cur[m.trainIdx].pt\n",
    "            arr[0, i] = x\n",
    "            arr[1, i] = y\n",
    "        mean_x, mean_y = np.int(np.mean(arr[0])), np.int(np.mean(arr[1]))\n",
    "        past_x += whole // 2 - mean_x\n",
    "        past_y += whole // 2 - mean_y\n",
    "        crop = frame[past_y:past_y + whole, past_x:past_x + whole]\n",
    "        kp_prev, des_prev = orb.detectAndCompute(crop, None)\n",
    "        cv2.circle(frame,(past_x + mean_x,past_y + mean_y), 50, (0,0,255), 1)\n",
    "        cv2.imshow('frame', frame)\n",
    "        #out = cv2.drawMatches(crop,kp_prev,cur_crop,kp_cur,matches[:10], None, flags=2)\n",
    "        #cv2.imshow('out', out)\n",
    "        k = cv2.waitKey(60) & 0xff\n",
    "        if k == 27:\n",
    "            break\n",
    "    else:\n",
    "        break\n",
    "\n",
    "cv2.destroyAllWindows()\n",
    "cap.release()"
   ]
  },
  {
   "cell_type": "code",
   "execution_count": null,
   "metadata": {},
   "outputs": [],
   "source": [
    "arr"
   ]
  },
  {
   "cell_type": "code",
   "execution_count": 11,
   "metadata": {},
   "outputs": [
    {
     "name": "stdout",
     "output_type": "stream",
     "text": [
      "0 0\n",
      "1 1\n",
      "2 2\n",
      "3 3\n",
      "4 4\n",
      "5 5\n",
      "6 6\n",
      "7 7\n",
      "8 8\n",
      "9 9\n"
     ]
    }
   ],
   "source": [
    "for i, m in enumerate(range(10)):\n",
    "    print(i, m)"
   ]
  },
  {
   "cell_type": "code",
   "execution_count": 2,
   "metadata": {},
   "outputs": [
    {
     "name": "stdout",
     "output_type": "stream",
     "text": [
      "(720, 1280, 3)\n"
     ]
    }
   ],
   "source": [
    "# orb brute force works\n",
    "import numpy as np\n",
    "import cv2\n",
    "\n",
    "MIN_MATCH_COUNT = 10\n",
    "\n",
    "cap = cv2.VideoCapture('../../vid/swarm_drone.mp4')\n",
    "orb = cv2.ORB_create(nfeatures=np.int(1e4))\n",
    "#orb = cv2.ORB_create()\n",
    "ret, frame = cap.read()\n",
    "scale = 1\n",
    "frame = cv2.resize(frame, (0,0), fx=1 / scale, fy=1 / scale) \n",
    "print(frame.shape) # (720, 1280, 3)\n",
    "whole = 100 // scale\n",
    "y, x = 230 // scale, 550 // scale\n",
    "crop = frame[y:y + whole, x:x + whole]\n",
    "kp_prev, des_prev = orb.detectAndCompute(crop,None)\n",
    "crop = cv2.drawKeypoints(crop, kp_prev, None, color=(0,255,0), flags=0)\n",
    "cv2.imshow('crop', crop)\n",
    "cv2.waitKey(0)\n",
    "cv2.destroyAllWindows()\n",
    "\n",
    "while True:\n",
    "    ret, frame = cap.read()\n",
    "    \n",
    "    frame = cv2.resize(frame, (0,0), fx=1 / scale, fy=1 / scale) \n",
    "    if ret == True:\n",
    "        y_size, x_size, _ = frame.shape\n",
    "        mask = np.zeros((y_size, x_size))\n",
    "        mask.\n",
    "        cv2.rectangle(img,(x,y),(x+whole,y+whole),255,-1)\n",
    "        kp_frame, des_frame = orb.detectAndCompute(frame, None)        \n",
    "        # create BFMatcher object\n",
    "        bf = cv2.BFMatcher(cv2.NORM_HAMMING, crossCheck=True)\n",
    "        # Match descriptors.\n",
    "        matches = bf.match(des_prev,des_frame)\n",
    "        # Sort them in the order of their distance.\n",
    "        matches = sorted(matches, key = lambda x:x.distance)\n",
    "        # Draw first 10 matches.\n",
    "        frame = cv2.drawKeypoints(frame, kp_frame, None, color=(0,255,0), flags=0)\n",
    "        out = cv2.drawMatches(crop,kp_prev,frame,kp_frame,matches[:10], None, flags=2)\n",
    "        cv2.imshow('out', out)\n",
    "        k = cv2.waitKey(60) & 0xff\n",
    "        if k == 27:\n",
    "            break\n",
    "    else:\n",
    "        break\n",
    "\n",
    "cv2.destroyAllWindows()\n",
    "cap.release()"
   ]
  },
  {
   "cell_type": "code",
   "execution_count": 76,
   "metadata": {},
   "outputs": [
    {
     "name": "stdout",
     "output_type": "stream",
     "text": [
      "[599.         616.30725098 590.97607422 608.25604248 606.15490723\n",
      " 588.         591.60003662 625.         604.         580.60803223] [249.         250.82272339 259.20001221 274.75201416 253.80871582\n",
      " 246.         258.         248.         259.         262.65603638]\n"
     ]
    }
   ],
   "source": [
    "# orb brute force works\n",
    "import numpy as np\n",
    "import cv2\n",
    "cap = cv2.VideoCapture('../../vid/swarm_drone.mp4')\n",
    "orb = cv2.ORB_create(nfeatures=1000)\n",
    "#orb = cv2.ORB_create()\n",
    "\n",
    "ret, frame = cap.read()\n",
    "scale = 1\n",
    "frame = cv2.resize(frame, (0,0), fx=1 / scale, fy=1 / scale) \n",
    "whole = 100 // scale\n",
    "y, x = 230 // scale, 550 // scale\n",
    "crop = frame[y:y + whole, x:x + whole]\n",
    "kp_prev, des_prev = orb.detectAndCompute(crop,None)\n",
    "for i in range(10):\n",
    "    ret, frame = cap.read()\n",
    "height,width,depth = frame.shape\n",
    "mask = np.zeros((height,width), np.uint8)\n",
    "cv2.rectangle(mask, (x,y), (x+whole,y+whole),256,thickness=-1)\n",
    "masked = cv2.bitwise_and(frame, frame, mask=mask)\n",
    "kp, des = orb.detectAndCompute(masked,None)\n",
    "# create BFMatcher object\n",
    "bf = cv2.BFMatcher(cv2.NORM_HAMMING, crossCheck=True)\n",
    "# Match descriptors.\n",
    "matches = bf.match(des_prev,des)\n",
    "# Sort them in the order of their distance.\n",
    "matches = sorted(matches, key = lambda x:x.distance)\n",
    "# Draw first 10 matches.\n",
    "out = cv2.drawMatches(crop,kp_prev,masked,kp,matches[:10], None, flags=2)\n",
    "# masked_data = cv2.drawKeypoints(masked_data, kp, None, color=(0,255,0), flags=0)\n",
    "\n",
    "size = 10\n",
    "top_matches = matches[:size]\n",
    "arr = np.zeros((2,size))\n",
    "for i, m in enumerate(top_matches):\n",
    "    x, y = kp[m.trainIdx].pt\n",
    "    arr[0, i] = x\n",
    "    arr[1, i] = y\n",
    "print(arr[0],arr[1])\n",
    "mean_x, mean_y = np.int(np.mean(arr[0])), np.int(np.mean(arr[1]))\n",
    "x = mean_x - whole//2\n",
    "y = mean_y - whole//2\n",
    "cv2.imshow('x', frame)\n",
    "mask = np.zeros((height,width), np.uint8)\n",
    "cv2.rectangle(mask, (x,y), (x+whole,y+whole),256,thickness=-1)\n",
    "masked = cv2.bitwise_and(frame, frame, mask=mask)\n",
    "cv2.imshow('f', masked)\n",
    "cv2.imshow('q', out)\n",
    "cv2.waitKey(0)\n",
    "cv2.destroyAllWindows()"
   ]
  },
  {
   "cell_type": "code",
   "execution_count": 72,
   "metadata": {},
   "outputs": [
    {
     "data": {
      "text/plain": [
       "43"
      ]
     },
     "execution_count": 72,
     "metadata": {},
     "output_type": "execute_result"
    }
   ],
   "source": [
    "len(matches)"
   ]
  },
  {
   "cell_type": "markdown",
   "metadata": {},
   "source": []
  },
  {
   "cell_type": "markdown",
   "metadata": {},
   "source": []
  },
  {
   "cell_type": "code",
   "execution_count": null,
   "metadata": {},
   "outputs": [],
   "source": []
  }
 ],
 "metadata": {
  "kernelspec": {
   "display_name": "Python 3",
   "language": "python",
   "name": "python3"
  },
  "language_info": {
   "codemirror_mode": {
    "name": "ipython",
    "version": 3
   },
   "file_extension": ".py",
   "mimetype": "text/x-python",
   "name": "python",
   "nbconvert_exporter": "python",
   "pygments_lexer": "ipython3",
   "version": "3.6.4"
  }
 },
 "nbformat": 4,
 "nbformat_minor": 2
}

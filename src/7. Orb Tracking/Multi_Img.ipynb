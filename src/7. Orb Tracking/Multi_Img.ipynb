{
 "cells": [
  {
   "cell_type": "code",
   "execution_count": 6,
   "metadata": {},
   "outputs": [],
   "source": [
    "import cv2\n",
    "import numpy as np\n",
    "\n",
    "img1 = cv2.imread('../../img/captures/swarm_drone/cap0.00.jpg')\n",
    "img2 = cv2.imread('../../img/captures/swarm_drone/cap0.02.jpg')\n",
    "h1, w1 = img1.shape[:2]\n",
    "h2, w2 = img2.shape[:2]\n",
    "\n",
    "#create empty matrix\n",
    "vis = np.zeros((max(h1, h2), w1+w2,3), np.uint8)\n",
    "\n",
    "#combine 2 images\n",
    "vis[:h1, :w1,:3] = img1\n",
    "vis[:h2, w1:w1+w2,:3] = img2\n",
    "cv2.imshow('vis', vis)\n",
    "cv2.waitKey(0)\n",
    "cv2.destroyAllWindows()\n",
    "\n"
   ]
  },
  {
   "cell_type": "code",
   "execution_count": 11,
   "metadata": {},
   "outputs": [],
   "source": [
    "import cv2\n",
    "import numpy as np\n",
    "\n",
    "img1 = cv2.imread('../../img/captures/swarm_drone/cap0.00.jpg')\n",
    "img2 = cv2.imread('../../img/captures/swarm_drone/cap0.02.jpg')\n",
    "h1, w1 = img1.shape[:2]\n",
    "h2, w2 = img2.shape[:2]\n",
    "\n",
    "#create empty matrix\n",
    "vis = np.zeros((h1+h2, max(w1,w2),3), np.uint8)\n",
    "\n",
    "#combine 2 images\n",
    "vis[:h1, :w1,:3] = img1\n",
    "vis[h1:h1+h2, :w2,:3] = img2\n",
    "orb = cv2.ORB_create()\n",
    "kp1, des1 = orb.detectAndCompute(vis,None)\n",
    "vis = cv2.drawKeypoints(vis, kp1, None, color=(0,255,0), flags=0)\n",
    "cv2.imshow('vis', vis)\n",
    "cv2.waitKey(0)\n",
    "cv2.destroyAllWindows()\n",
    "\n"
   ]
  },
  {
   "cell_type": "code",
   "execution_count": 3,
   "metadata": {},
   "outputs": [],
   "source": [
    "import cv2\n",
    "import numpy as np\n",
    "\n",
    "img1 = cv2.imread('../../img/captures/swarm_drone/cap0.jpg')\n",
    "img1 = cv2.resize(img1, (224, 224))\n",
    "for i in range(2, 60, 2):\n",
    "    img2 = cv2.imread('../../img/captures/swarm_drone/cap{}.jpg'.format(i))\n",
    "    img2 = cv2.resize(img2, (224, 224))\n",
    "    h1, w1 = img1.shape[:2]\n",
    "    h2, w2 = img2.shape[:2]\n",
    "\n",
    "    #create empty matrix\n",
    "    vis = np.zeros((h1+h2, max(w1,w2),3), np.uint8)\n",
    "\n",
    "    #combine 2 images\n",
    "    vis[:h1, :w1,:3] = img1\n",
    "    vis[h1:h1+h2, :w2,:3] = img2\n",
    "    img1 = vis\n",
    "orb = cv2.ORB_create(nfeatures=np.int(1e4))\n",
    "kp1, des1 = orb.detectAndCompute(img1,None)\n",
    "img2 = img1.copy()\n",
    "img1 = cv2.drawKeypoints(img1, kp1, None, color=(0,255,0), flags=0)\n",
    "\n",
    "cv2.imshow('img1', img1)\n",
    "cv2.waitKey(0)\n",
    "cv2.destroyAllWindows()"
   ]
  },
  {
   "cell_type": "code",
   "execution_count": null,
   "metadata": {},
   "outputs": [],
   "source": [
    "import cv2\n",
    "import numpy as np\n",
    "\n",
    "img1 = cv2.imread('../../img/captures/swarm_drone/cap0.jpg')\n",
    "img1 = cv2.resize(img1, (224, 224))\n",
    "orb = cv2.ORB_create(nfeatures=np.int(1e4))\n",
    "kp1, des1 = orb.detectAndCompute(img1,None)\n",
    "img1 = cv2.drawKeypoints(img1, kp1, None, color=(0,255,0), flags=0)\n",
    "cv2.imshow('img1', img1)\n",
    "cv2.waitKey(0)\n",
    "cv2.destroyAllWindows()\n",
    "\n"
   ]
  },
  {
   "cell_type": "code",
   "execution_count": 30,
   "metadata": {},
   "outputs": [
    {
     "data": {
      "text/plain": [
       "(104, 112, 3)"
      ]
     },
     "execution_count": 30,
     "metadata": {},
     "output_type": "execute_result"
    }
   ],
   "source": [
    "img1.shape"
   ]
  },
  {
   "cell_type": "code",
   "execution_count": null,
   "metadata": {},
   "outputs": [],
   "source": []
  }
 ],
 "metadata": {
  "kernelspec": {
   "display_name": "Python 3",
   "language": "python",
   "name": "python3"
  },
  "language_info": {
   "codemirror_mode": {
    "name": "ipython",
    "version": 3
   },
   "file_extension": ".py",
   "mimetype": "text/x-python",
   "name": "python",
   "nbconvert_exporter": "python",
   "pygments_lexer": "ipython3",
   "version": "3.6.4"
  }
 },
 "nbformat": 4,
 "nbformat_minor": 2
}

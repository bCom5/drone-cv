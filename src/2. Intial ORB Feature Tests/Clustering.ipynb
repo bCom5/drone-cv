{
 "cells": [
  {
   "cell_type": "code",
   "execution_count": 3,
   "metadata": {},
   "outputs": [],
   "source": [
    "%matplotlib inline  \n",
    "import numpy as np\n",
    "import cv2\n",
    "from matplotlib import pyplot as plt"
   ]
  },
  {
   "cell_type": "code",
   "execution_count": 4,
   "metadata": {},
   "outputs": [
    {
     "data": {
      "image/png": "[encoded data removed]",
      "text/plain": [
       "<matplotlib.figure.Figure at 0x1702be9a668>"
      ]
     },
     "metadata": {},
     "output_type": "display_data"
    }
   ],
   "source": [
    "X = np.random.randint(25,50,(25,2))\n",
    "Y = np.random.randint(60,85,(25,2))\n",
    "Z = np.vstack((X,Y))\n",
    "# convert to np.float32\n",
    "Z = np.float32(Z)\n",
    "# define criteria and apply kmeans()\n",
    "criteria = (cv2.TERM_CRITERIA_EPS + cv2.TERM_CRITERIA_MAX_ITER, 10, 1.0)\n",
    "ret,label,center=cv2.kmeans(Z,2,None,criteria,10,cv2.KMEANS_RANDOM_CENTERS)\n",
    "# Now separate the data, Note the flatten()\n",
    "A = Z[label.ravel()==0]\n",
    "B = Z[label.ravel()==1]\n",
    "# Plot the data\n",
    "plt.scatter(A[:,0],A[:,1])\n",
    "plt.scatter(B[:,0],B[:,1],c = 'r')\n",
    "plt.scatter(center[:,0],center[:,1],s = 80,c = 'y', marker = 's')\n",
    "plt.xlabel('Height'),plt.ylabel('Weight')\n",
    "plt.show()"
   ]
  },
  {
   "cell_type": "code",
   "execution_count": 5,
   "metadata": {},
   "outputs": [
    {
     "data": {
      "text/plain": [
       "array([[27., 49.],\n",
       "       [27., 29.],\n",
       "       [39., 45.],\n",
       "       [26., 31.],\n",
       "       [26., 49.],\n",
       "       [29., 27.],\n",
       "       [27., 36.],\n",
       "       [33., 34.],\n",
       "       [48., 30.],\n",
       "       [48., 26.],\n",
       "       [36., 41.],\n",
       "       [47., 42.],\n",
       "       [37., 32.],\n",
       "       [43., 36.],\n",
       "       [40., 28.],\n",
       "       [42., 25.],\n",
       "       [25., 41.],\n",
       "       [44., 43.],\n",
       "       [27., 29.],\n",
       "       [26., 43.],\n",
       "       [26., 44.],\n",
       "       [44., 33.],\n",
       "       [48., 43.],\n",
       "       [28., 25.],\n",
       "       [35., 29.],\n",
       "       [83., 80.],\n",
       "       [82., 84.],\n",
       "       [69., 66.],\n",
       "       [78., 77.],\n",
       "       [76., 70.],\n",
       "       [65., 70.],\n",
       "       [71., 63.],\n",
       "       [63., 61.],\n",
       "       [67., 60.],\n",
       "       [71., 70.],\n",
       "       [84., 70.],\n",
       "       [66., 76.],\n",
       "       [69., 63.],\n",
       "       [73., 65.],\n",
       "       [69., 62.],\n",
       "       [71., 82.],\n",
       "       [66., 76.],\n",
       "       [78., 63.],\n",
       "       [83., 63.],\n",
       "       [76., 79.],\n",
       "       [82., 64.],\n",
       "       [63., 66.],\n",
       "       [73., 84.],\n",
       "       [84., 79.],\n",
       "       [72., 67.]], dtype=float32)"
      ]
     },
     "execution_count": 5,
     "metadata": {},
     "output_type": "execute_result"
    }
   ],
   "source": [
    "Z"
   ]
  },
  {
   "cell_type": "code",
   "execution_count": null,
   "metadata": {},
   "outputs": [],
   "source": [
    "top_left = y - 50, x - 50\n",
    "        bot_right = y + 50, x + 50\n",
    "        frame = cv2.rectangle(frame, top_left, bot_right, (0, 255, 0),  1)"
   ]
  }
 ],
 "metadata": {
  "kernelspec": {
   "display_name": "Python 3",
   "language": "python",
   "name": "python3"
  },
  "language_info": {
   "codemirror_mode": {
    "name": "ipython",
    "version": 3
   },
   "file_extension": ".py",
   "mimetype": "text/x-python",
   "name": "python",
   "nbconvert_exporter": "python",
   "pygments_lexer": "ipython3",
   "version": "3.6.4"
  }
 },
 "nbformat": 4,
 "nbformat_minor": 2
}

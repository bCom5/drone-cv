{
 "cells": [
  {
   "cell_type": "code",
   "execution_count": 74,
   "metadata": {},
   "outputs": [],
   "source": [
    "%matplotlib inline  \n",
    "import numpy as np\n",
    "import cv2 # 3.3\n",
    "from matplotlib import pyplot as plt"
   ]
  },
  {
   "cell_type": "code",
   "execution_count": 2,
   "metadata": {},
   "outputs": [
    {
     "name": "stdout",
     "output_type": "stream",
     "text": [
      "True\n"
     ]
    }
   ],
   "source": [
    "cap = cv2.VideoCapture('../../vid/drone-flight.mp4')\n",
    "ret, frame = cap.read()\n",
    "print(ret)"
   ]
  },
  {
   "cell_type": "code",
   "execution_count": 3,
   "metadata": {},
   "outputs": [
    {
     "name": "stdout",
     "output_type": "stream",
     "text": [
      "17034\n"
     ]
    }
   ],
   "source": [
    "cap = cv2.VideoCapture('../../vid/drone-flight.mp4')\n",
    "length = int(cap.get(cv2.CAP_PROP_FRAME_COUNT))\n",
    "print(length) # num frames"
   ]
  },
  {
   "cell_type": "code",
   "execution_count": 32,
   "metadata": {
    "scrolled": true
   },
   "outputs": [
    {
     "name": "stdout",
     "output_type": "stream",
     "text": [
      "[[[101 169 136]\n",
      "  [ 57 125  92]\n",
      "  [ 64 132  99]\n",
      "  ...\n",
      "  [102 165 146]\n",
      "  [102 165 146]\n",
      "  [102 165 146]]\n",
      "\n",
      " [[ 92 160 127]\n",
      "  [ 47 115  82]\n",
      "  [ 72 140 107]\n",
      "  ...\n",
      "  [102 165 146]\n",
      "  [102 165 146]\n",
      "  [102 165 146]]\n",
      "\n",
      " [[ 68 139 105]\n",
      "  [ 38 109  75]\n",
      "  [ 86 157 123]\n",
      "  ...\n",
      "  [102 165 146]\n",
      "  [102 165 146]\n",
      "  [102 165 146]]\n",
      "\n",
      " ...\n",
      "\n",
      " [[ 42  97  90]\n",
      "  [ 68 123 116]\n",
      "  [ 97 155 146]\n",
      "  ...\n",
      "  [ 73 204 170]\n",
      "  [ 58 187 153]\n",
      "  [ 47 176 142]]\n",
      "\n",
      " [[ 33  86  84]\n",
      "  [ 39  92  90]\n",
      "  [ 30  87  85]\n",
      "  ...\n",
      "  [ 64 208 164]\n",
      "  [ 70 214 170]\n",
      "  [ 49 193 149]]\n",
      "\n",
      " [[ 50 103 101]\n",
      "  [ 50 103 101]\n",
      "  [ 61 118 116]\n",
      "  ...\n",
      "  [ 56 200 156]\n",
      "  [ 55 199 155]\n",
      "  [ 53 197 153]]]\n"
     ]
    }
   ],
   "source": [
    "import cv2\n",
    "def get_frame(n=None, link='../../vid/drone-flight.mp4'):\n",
    "    cap = cv2.VideoCapture(link)\n",
    "    if n == None:\n",
    "        n = np.random.randint(cap.get(cv2.CAP_PROP_FRAME_COUNT))\n",
    "    cap.set(cv2.CAP_PROP_POS_FRAMES, n - 1)\n",
    "    res, frame = cap.read()\n",
    "    return frame\n",
    "print(get_frame())"
   ]
  },
  {
   "cell_type": "code",
   "execution_count": 113,
   "metadata": {},
   "outputs": [],
   "source": [
    "def scale(frame, factor=.5):\n",
    "    height, wid, _ = frame.shape\n",
    "    scaled_wid, scaled_height = np.int(wid * factor), np.int(height * factor)\n",
    "    frame = cv2.resize(frame, (scaled_wid, scaled_height))\n",
    "    return frame"
   ]
  },
  {
   "cell_type": "code",
   "execution_count": 53,
   "metadata": {},
   "outputs": [],
   "source": [
    "def get_orb_kp(frame, orb=cv2.ORB_create()):\n",
    "    frame = scale(frame)\n",
    "    kp = orb.detect(frame)\n",
    "    kp_drawn = cv2.drawKeypoints(frame, kp, None, color=(0, 255, 0))\n",
    "    return kp, kp_drawn"
   ]
  },
  {
   "cell_type": "code",
   "execution_count": 80,
   "metadata": {},
   "outputs": [],
   "source": [
    "def draw(info):\n",
    "    for frame, name in info:\n",
    "        cv2.imshow(name, frame)\n",
    "    cv2.waitKey(0)\n",
    "    cv2.destroyAllWindows()\n",
    "    \n",
    "def draw_single(frame, name):\n",
    "    cv2.imshow(name, frame)\n",
    "    cv2.waitKey(0)\n",
    "    cv2.destroyAllWindows()"
   ]
  },
  {
   "cell_type": "code",
   "execution_count": 119,
   "metadata": {},
   "outputs": [],
   "source": [
    "kp, frame = get_orb_kp(scale(get_frame(), 1))\n",
    "draw([(frame, 'frame')])"
   ]
  },
  {
   "cell_type": "code",
   "execution_count": 132,
   "metadata": {},
   "outputs": [],
   "source": [
    "def kp_to_pairs(kp, dim):\n",
    "    max_y, max_x, _ = dim\n",
    "    out = np.zeros((len(kp), 2))\n",
    "    for i in range(len(kp)):\n",
    "        x, y = kp[i].pt\n",
    "        \n",
    "        out[i] = np.array([x, max_y-y])\n",
    "    return out\n",
    "Z = kp_to_pairs(kp, frame.shape)"
   ]
  },
  {
   "cell_type": "code",
   "execution_count": 138,
   "metadata": {},
   "outputs": [
    {
     "data": {
      "image/png": "[encoded data removed]",
      "text/plain": [
       "<matplotlib.figure.Figure at 0x127a2786898>"
      ]
     },
     "metadata": {},
     "output_type": "display_data"
    }
   ],
   "source": [
    "def plot(Z, dim):\n",
    "    # convert to np.float32\n",
    "    Z = np.float32(Z)\n",
    "    # define criteria and apply kmeans()\n",
    "    criteria = (cv2.TERM_CRITERIA_EPS + cv2.TERM_CRITERIA_MAX_ITER, 10, 1.0)\n",
    "    ret,label,center=cv2.kmeans(Z,10,None,criteria,10,cv2.KMEANS_RANDOM_CENTERS)\n",
    "    # Now separate the data, Note the flatten()\n",
    "    A = Z[label.ravel()==0]\n",
    "    B = Z[label.ravel()==1]\n",
    "    C = Z[label.ravel()==2]\n",
    "    # Plot the data\n",
    "    plt.scatter(A[:,0],A[:,1], c = 'r')\n",
    "    plt.scatter(B[:,0],B[:,1],c = 'b')\n",
    "    plt.scatter(C[:,0],C[:,1],c = 'g')\n",
    "    plt.scatter(center[:,0],center[:,1],s = 80,c = 'y', marker = 's')\n",
    "    plt.xlabel('x'),plt.ylabel('y')\n",
    "    y_max, x_max, _  = dim\n",
    "    plt.axis([0, x_max, 0, y_max])\n",
    "    plt.show()\n",
    "    draw_single(frame, 'frame')\n",
    "plot(Z, frame.shape)"
   ]
  },
  {
   "cell_type": "code",
   "execution_count": 139,
   "metadata": {},
   "outputs": [],
   "source": [
    "def tot_anal():\n",
    "    kp, frame = get_orb_kp(scale(get_frame(), 1))\n",
    "    dim = frame.shape\n",
    "    Z = kp_to_pairs(kp, dim)\n",
    "    plot(Z, dim)"
   ]
  },
  {
   "cell_type": "code",
   "execution_count": 142,
   "metadata": {},
   "outputs": [
    {
     "data": {
      "image/png": "[encoded data removed]",
      "text/plain": [
       "<matplotlib.figure.Figure at 0x127a5db49e8>"
      ]
     },
     "metadata": {},
     "output_type": "display_data"
    }
   ],
   "source": [
    "tot_anal()"
   ]
  },
  {
   "cell_type": "code",
   "execution_count": 179,
   "metadata": {},
   "outputs": [],
   "source": [
    "def get_centers(Z, num=10):\n",
    "    # convert to np.float32\n",
    "    Z = np.float32(Z)\n",
    "    # define criteria and apply kmeans()\n",
    "    criteria = (cv2.TERM_CRITERIA_EPS + cv2.TERM_CRITERIA_MAX_ITER, 10, 1.0)\n",
    "    ret,label,center=cv2.kmeans(Z,num,None,criteria,10,cv2.KMEANS_RANDOM_CENTERS)\n",
    "    return center\n",
    "centers = get_centers(Z)"
   ]
  },
  {
   "cell_type": "code",
   "execution_count": 180,
   "metadata": {},
   "outputs": [],
   "source": [
    "def plot_boxes(frame, name, centers, dim):\n",
    "    y_max, x_max, _  = dim\n",
    "    \n",
    "    for i in range(len(centers)):\n",
    "        x, y = centers[i]\n",
    "        x, y = np.int(x), np.int(y_max - y)\n",
    "        top_left = x - 50, y - 50\n",
    "        bot_right = x + 50, y + 50\n",
    "        frame = cv2.rectangle(frame, top_left, bot_right, (0, 255, 0),  1)\n",
    "        # frame = cv2.circle(frame, (x, y), 50, (0, 255, 0),  1)\n",
    "    draw_single(frame, name)"
   ]
  },
  {
   "cell_type": "code",
   "execution_count": 181,
   "metadata": {},
   "outputs": [],
   "source": [
    "plot_boxes(frame, 'frame', centers, frame.shape)"
   ]
  },
  {
   "cell_type": "code",
   "execution_count": 184,
   "metadata": {},
   "outputs": [],
   "source": [
    "def plot_ex():\n",
    "    kp, frame = get_orb_kp(scale(get_frame(), 1))\n",
    "    dim = frame.shape\n",
    "    Z = kp_to_pairs(kp, dim)\n",
    "    centers = get_centers(Z, 100)\n",
    "    plot_boxes(frame, 'frame', centers, dim)"
   ]
  },
  {
   "cell_type": "code",
   "execution_count": 185,
   "metadata": {},
   "outputs": [],
   "source": [
    "plot_ex()"
   ]
  },
  {
   "cell_type": "code",
   "execution_count": null,
   "metadata": {},
   "outputs": [],
   "source": []
  }
 ],
 "metadata": {
  "kernelspec": {
   "display_name": "Python 3",
   "language": "python",
   "name": "python3"
  },
  "language_info": {
   "codemirror_mode": {
    "name": "ipython",
    "version": 3
   },
   "file_extension": ".py",
   "mimetype": "text/x-python",
   "name": "python",
   "nbconvert_exporter": "python",
   "pygments_lexer": "ipython3",
   "version": "3.6.4"
  }
 },
 "nbformat": 4,
 "nbformat_minor": 2
}

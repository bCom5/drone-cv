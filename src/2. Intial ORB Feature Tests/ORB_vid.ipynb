{
 "cells": [
  {
   "cell_type": "code",
   "execution_count": 1,
   "metadata": {},
   "outputs": [],
   "source": [
    "import numpy as np\n",
    "import cv2 # 3.3"
   ]
  },
  {
   "cell_type": "code",
   "execution_count": 2,
   "metadata": {},
   "outputs": [
    {
     "name": "stdout",
     "output_type": "stream",
     "text": [
      "True\n"
     ]
    }
   ],
   "source": [
    "cap = cv2.VideoCapture('../../vid/drone-flight.mp4')\n",
    "ret, frame = cap.read()\n",
    "print(ret)"
   ]
  },
  {
   "cell_type": "code",
   "execution_count": 3,
   "metadata": {},
   "outputs": [],
   "source": [
    "def run(func, link='../../vid/drone-flight.mp4'):\n",
    "    cap = cv2.VideoCapture(link)\n",
    "    while True:\n",
    "         # Capture frame-by-frame\n",
    "        ret, frame = cap.read()\n",
    "        func(ret, frame)\n",
    "        if cv2.waitKey(1) & 0xFF == ord('q'):\n",
    "            break\n",
    "    cap.release()\n",
    "    cv2.destroyAllWindows()"
   ]
  },
  {
   "cell_type": "code",
   "execution_count": 4,
   "metadata": {},
   "outputs": [],
   "source": [
    "def func(ret, frame):\n",
    "    cv2.imshow('frame' ,frame)\n",
    "run(func)"
   ]
  },
  {
   "cell_type": "code",
   "execution_count": 5,
   "metadata": {},
   "outputs": [],
   "source": [
    "def scale(frame, factor=.5):\n",
    "    height, wid = frame.shape[:2]\n",
    "    scaled_wid, scaled_height = np.int(wid * factor), np.int(height * factor)\n",
    "    frame = cv2.resize(frame, (scaled_wid, scaled_height))\n",
    "    return frame"
   ]
  },
  {
   "cell_type": "code",
   "execution_count": 6,
   "metadata": {
    "scrolled": true
   },
   "outputs": [],
   "source": [
    "def orb_func(ret, frame):\n",
    "    frame = scale(frame)\n",
    "    orb = cv2.ORB_create()\n",
    "    kp = orb.detect(frame)\n",
    "    # kp, des = orb.compute(frame, kp)\n",
    "    kp_drawn = cv2.drawKeypoints(frame, kp, None, color=(0, 255, 0))\n",
    "    cv2.imshow('kp_drawn', kp_drawn)\n",
    "run(orb_func)"
   ]
  },
  {
   "cell_type": "code",
   "execution_count": 7,
   "metadata": {},
   "outputs": [
    {
     "data": {
      "text/plain": [
       "'3.3.0'"
      ]
     },
     "execution_count": 7,
     "metadata": {},
     "output_type": "execute_result"
    }
   ],
   "source": [
    "cv2.__version__"
   ]
  },
  {
   "cell_type": "code",
   "execution_count": null,
   "metadata": {},
   "outputs": [],
   "source": []
  },
  {
   "cell_type": "code",
   "execution_count": 8,
   "metadata": {},
   "outputs": [],
   "source": [
    "# try Kmeans"
   ]
  },
  {
   "cell_type": "code",
   "execution_count": 9,
   "metadata": {},
   "outputs": [],
   "source": [
    "def get_orb_kp(frame, orb=cv2.ORB_create()):\n",
    "    frame = scale(frame, .5)\n",
    "    kp = orb.detect(frame)\n",
    "    kp_drawn = cv2.drawKeypoints(frame, kp, None, color=(0, 255, 0))\n",
    "    return kp, kp_drawn"
   ]
  },
  {
   "cell_type": "code",
   "execution_count": 10,
   "metadata": {},
   "outputs": [],
   "source": [
    "def kp_to_pairs(kp, dim):\n",
    "    max_y, max_x, _ = dim\n",
    "    out = np.zeros((len(kp), 2))\n",
    "    for i in range(len(kp)):\n",
    "        x, y = kp[i].pt\n",
    "        \n",
    "        out[i] = np.array([x, max_y-y])\n",
    "    return out"
   ]
  },
  {
   "cell_type": "code",
   "execution_count": 11,
   "metadata": {},
   "outputs": [],
   "source": [
    "def get_centers(Z, num=10):\n",
    "    # convert to np.float32\n",
    "    Z = np.float32(Z)\n",
    "    # define criteria and apply kmeans()\n",
    "    criteria = (cv2.TERM_CRITERIA_EPS + cv2.TERM_CRITERIA_MAX_ITER, 10, 1.0)\n",
    "    ret,label,center=cv2.kmeans(Z,num,None,criteria,10,cv2.KMEANS_RANDOM_CENTERS)\n",
    "    return center"
   ]
  },
  {
   "cell_type": "code",
   "execution_count": 12,
   "metadata": {},
   "outputs": [],
   "source": [
    "def plot_boxes(frame, name, centers, dim):\n",
    "    y_max, x_max, _  = dim\n",
    "    \n",
    "    for i in range(len(centers)):\n",
    "        x, y = centers[i]\n",
    "        x, y = np.int(x), np.int(y_max - y)\n",
    "        half_size = 50\n",
    "        top_left = x - half_size, y - half_size\n",
    "        bot_right = x + half_size, y + half_size\n",
    "        frame = cv2.rectangle(frame, top_left, bot_right, (0, 255, 0),  1)\n",
    "        # frame = cv2.circle(frame, (x, y), 50, (0, 255, 0),  1)\n",
    "    cv2.imshow(name, frame)"
   ]
  },
  {
   "cell_type": "code",
   "execution_count": 14,
   "metadata": {
    "scrolled": true
   },
   "outputs": [],
   "source": [
    "def orb_func_boxed(ret, frame):\n",
    "    kp, frame = get_orb_kp(frame, orb=cv2.ORB_create(nfeatures=1000))\n",
    "    dim = frame.shape\n",
    "    Z = kp_to_pairs(kp, dim)\n",
    "    centers = get_centers(Z, num=5)\n",
    "    plot_boxes(frame, 'frame', centers, dim)\n",
    "    \n",
    "run(orb_func_boxed)"
   ]
  },
  {
   "cell_type": "code",
   "execution_count": null,
   "metadata": {},
   "outputs": [],
   "source": []
  }
 ],
 "metadata": {
  "kernelspec": {
   "display_name": "Python 3",
   "language": "python",
   "name": "python3"
  },
  "language_info": {
   "codemirror_mode": {
    "name": "ipython",
    "version": 3
   },
   "file_extension": ".py",
   "mimetype": "text/x-python",
   "name": "python",
   "nbconvert_exporter": "python",
   "pygments_lexer": "ipython3",
   "version": "3.6.4"
  }
 },
 "nbformat": 4,
 "nbformat_minor": 2
}

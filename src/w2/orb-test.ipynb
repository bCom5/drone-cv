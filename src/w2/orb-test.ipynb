{
 "cells": [
  {
   "cell_type": "code",
   "execution_count": 1,
   "metadata": {
    "collapsed": true
   },
   "outputs": [],
   "source": [
    "import cv2\n",
    "import numpy as np"
   ]
  },
  {
   "cell_type": "code",
   "execution_count": 2,
   "metadata": {},
   "outputs": [
    {
     "data": {
      "text/plain": [
       "True"
      ]
     },
     "execution_count": 2,
     "metadata": {},
     "output_type": "execute_result"
    }
   ],
   "source": [
    "device = cv2.VideoCapture('../../vid/drone-flight.mp4')\n",
    "device.isOpened()"
   ]
  },
  {
   "cell_type": "code",
   "execution_count": 3,
   "metadata": {
    "collapsed": true
   },
   "outputs": [],
   "source": [
    "ret, img = device.read()\n",
    "img = cv2.resize(img, None, fx=.25, fy=.25)\n",
    "prevTopRight = int(len(img[0])), int(len(img))\n",
    "prevBotLeft = 0, 0\n",
    "prevX, prevY = int(prevTopRight[0] / 2), int(prevTopRight[1] / 2)"
   ]
  },
  {
   "cell_type": "code",
   "execution_count": 4,
   "metadata": {
    "collapsed": true
   },
   "outputs": [],
   "source": [
    "import time"
   ]
  },
  {
   "cell_type": "code",
   "execution_count": null,
   "metadata": {},
   "outputs": [],
   "source": [
    "device = cv2.VideoCapture('../../vid/drone-flight.mp4')\n",
    "while device.isOpened():\n",
    "    count = 0\n",
    "    ret, img = device.read()\n",
    "    img = cv2.resize(img, None, fx=.25, fy=.25)\n",
    "    # img2 = img.copy()\n",
    "    # Initiate STAR detector\n",
    "    # orb = cv2.ORB()\n",
    "    orb = cv2.ORB(nfeatures=100)\n",
    "    \n",
    "    # find the keypoints with ORB\n",
    "    kp = orb.detect(img,None)\n",
    "    # kp1 = orb2.detect(img2, None)\n",
    "\n",
    "    # compute the descriptors with ORB\n",
    "    kp, des = orb.compute(img, kp) \n",
    "    \n",
    "    x, y = prevX, prevY\n",
    "    if len(kp) != 0:\n",
    "        x, y = kp[0].pt\n",
    "    x, y = int(x), int(y)\n",
    "    prevX, prevY = x, y\n",
    "    botLeft = x - 50, y - 50\n",
    "    topRight = x + 50, y + 50\n",
    "    cv2.rectangle(img, botLeft, topRight, (0,255,0))\n",
    "    \n",
    "    \n",
    "    # draw only keypoints location,not size and orientation\n",
    "    img = cv2.drawKeypoints(img,kp,color=(0,255,0), flags=0)\n",
    "    #  img2 = cv2.drawKeypoints(img2,kp,color=(0,255,0), flags=0)\n",
    "    \n",
    "    # cv2.imshow('img2', img2)\n",
    "    cv2.imshow('img', img)\n",
    "    \n",
    "    if cv2.waitKey(1) & 0xFF == ord('q'):\n",
    "        break\n",
    "        \n",
    "device.release()\n",
    "cv2.destroyAllWindows()"
   ]
  },
  {
   "cell_type": "code",
   "execution_count": 5,
   "metadata": {},
   "outputs": [
    {
     "data": {
      "text/plain": [
       "(270, 480)"
      ]
     },
     "execution_count": 5,
     "metadata": {},
     "output_type": "execute_result"
    }
   ],
   "source": [
    "device = cv2.VideoCapture('../../vid/drone-flight.mp4')\n",
    "device.isOpened()\n",
    "ret, img = device.read()\n",
    "img = cv2.resize(img, None, fx=.25, fy=.25)\n",
    "len(img), len(img[0])"
   ]
  },
  {
   "cell_type": "code",
   "execution_count": 6,
   "metadata": {},
   "outputs": [
    {
     "data": {
      "text/plain": [
       "5.0"
      ]
     },
     "execution_count": 6,
     "metadata": {},
     "output_type": "execute_result"
    }
   ],
   "source": [
    "round(5.3)"
   ]
  },
  {
   "cell_type": "code",
   "execution_count": 18,
   "metadata": {
    "collapsed": true
   },
   "outputs": [],
   "source": [
    "cropped = img[:300, :300]\n",
    "cv2.imshow(\"cropped\", cropped)\n",
    "cv2.waitKey(0)\n",
    "cv2.destroyAllWindows()"
   ]
  },
  {
   "cell_type": "code",
   "execution_count": null,
   "metadata": {
    "collapsed": true
   },
   "outputs": [],
   "source": []
  }
 ],
 "metadata": {
  "kernelspec": {
   "display_name": "Python 2",
   "language": "python",
   "name": "python2"
  },
  "language_info": {
   "codemirror_mode": {
    "name": "ipython",
    "version": 2
   },
   "file_extension": ".py",
   "mimetype": "text/x-python",
   "name": "python",
   "nbconvert_exporter": "python",
   "pygments_lexer": "ipython2",
   "version": "2.7.14"
  }
 },
 "nbformat": 4,
 "nbformat_minor": 2
}

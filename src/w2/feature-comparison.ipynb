{
 "cells": [
  {
   "cell_type": "code",
   "execution_count": 2,
   "metadata": {},
   "outputs": [],
   "source": [
    "import cv2\n",
    "import numpy as np\n",
    "from matplotlib import pyplot as plt\n",
    "import threading\n",
    "\n",
    "cam = cv2.VideoCapture('../../vid/drone-flight.mp4')\n",
    "(ret, img) = cam.read()\n",
    "img2 = img\n",
    "img3 = img\n",
    "img4 = img\n",
    "\n",
    "def sift_thread():\n",
    "\tsift = cv2.xfeatures2d.SIFT_create()\n",
    "\t(kps, descs) = sift.detectAndCompute(gray, None)\n",
    "\tcv2.drawKeypoints(gray, kps, img, flags=cv2.DRAW_MATCHES_FLAGS_DRAW_RICH_KEYPOINTS)\n",
    "\tcv2.imshow('SIFT Algorithm', img)\n",
    "\n",
    "\n",
    "def surf_thread():\n",
    "\tsurf = cv2.xfeatures2d.SURF_create()\n",
    "\t(kps2, descs2) = surf.detectAndCompute(gray, None)\n",
    "\tcv2.drawKeypoints(gray, kps2, img2, flags=cv2.DRAW_MATCHES_FLAGS_DRAW_RICH_KEYPOINTS)\n",
    "\tcv2.imshow('SURF Algorithm', img2)\n",
    "\n",
    "def fast_thread():\n",
    "\tfast = cv2.FastFeatureDetector_create()\n",
    "\tkps3 = fast.detect(gray, None)\n",
    "\tcv2.drawKeypoints(gray, kps3, img3, flags=cv2.DRAW_MATCHES_FLAGS_DRAW_RICH_KEYPOINTS)\n",
    "\tcv2.imshow('FAST Algorithm', img3)\n",
    "\n",
    "def orb_thread():\n",
    "\torb = cv2.ORB_create()\n",
    "\tkps4 = orb.detect(gray, None)\n",
    "\t(kps4, des4) = orb.compute(gray, kps4)\n",
    "\tcv2.drawKeypoints(gray, kps4, img4, flags=cv2.DRAW_MATCHES_FLAGS_DRAW_RICH_KEYPOINTS)\n",
    "\tcv2.imshow('ORB Algorithm', img4)"
   ]
  },
  {
   "cell_type": "code",
   "execution_count": null,
   "metadata": {},
   "outputs": [],
   "source": [
    "while True:\n",
    "\t(ret, img) = cam.read()\n",
    "\tgray = cv2.cvtColor(img, cv2.COLOR_BGR2GRAY)\n",
    "\tt1 = threading.Thread(name = 'SIFT Algorithm', target = sift_thread)\n",
    "\tt2 = threading.Thread(name = 'SURF Algorithm', target = surf_thread)\n",
    "\tt3 = threading.Thread(name = 'FAST Algorithm', target = fast_thread)\n",
    "\tt4 = threading.Thread(name = 'ORB Algorithm', target = orb_thread)\n",
    "\tt1.start()\n",
    "\tt2.start()\n",
    "\tt3.start()\n",
    "\tt4.start()\n",
    "\tt1.join()\n",
    "\tt2.join()\n",
    "\tt3.join()\n",
    "\tt4.join()\n",
    "\n",
    "\tif cv2.waitKey(1) == 27:\n",
    "\t\tbreak\n",
    "\n",
    "cv2.destroyAllWindows()"
   ]
  },
  {
   "cell_type": "code",
   "execution_count": null,
   "metadata": {
    "collapsed": true
   },
   "outputs": [],
   "source": []
  }
 ],
 "metadata": {
  "kernelspec": {
   "display_name": "Python 2",
   "language": "python",
   "name": "python2"
  },
  "language_info": {
   "codemirror_mode": {
    "name": "ipython",
    "version": 2
   },
   "file_extension": ".py",
   "mimetype": "text/x-python",
   "name": "python",
   "nbconvert_exporter": "python",
   "pygments_lexer": "ipython2",
   "version": "2.7.14"
  }
 },
 "nbformat": 4,
 "nbformat_minor": 2
}

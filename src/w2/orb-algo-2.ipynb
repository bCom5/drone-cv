{
 "cells": [
  {
   "cell_type": "code",
   "execution_count": 16,
   "metadata": {
    "collapsed": true
   },
   "outputs": [],
   "source": [
    "import cv2\n",
    "import numpy as np"
   ]
  },
  {
   "cell_type": "code",
   "execution_count": 46,
   "metadata": {},
   "outputs": [
    {
     "name": "stdout",
     "output_type": "stream",
     "text": [
      "True\n"
     ]
    }
   ],
   "source": [
    "device = cv2.VideoCapture('../../vid/drone-flight.mp4')\n",
    "print(device.isOpened())\n",
    "\n",
    "ret, img = device.read()\n",
    "img = cv2.resize(img, None, fx=.25, fy=.25)\n",
    "size = int(len(img[0])), int(len(img))\n",
    "prevTopRight = size\n",
    "prevBotLeft = 0, 0\n",
    "prevX, prevY = int(prevTopRight[0] / 2), int(prevTopRight[1] / 2)"
   ]
  },
  {
   "cell_type": "code",
   "execution_count": 45,
   "metadata": {},
   "outputs": [],
   "source": [
    "device = cv2.VideoCapture('../../vid/drone-flight.mp4')\n",
    "while device.isOpened():\n",
    "    ret, img = device.read()\n",
    "    img = cv2.resize(img, None, fx=.25, fy=.25)\n",
    "\n",
    "    # Initiate STAR detector\n",
    "    orb = cv2.ORB(nfeatures=100)\n",
    "    \n",
    "    imgCrop = img[prevBotLeft[0]:prevTopRight[0], prevBotLeft[1]:prevTopRight[1]]\n",
    "    \n",
    "    # find the keypoints with ORB\n",
    "    kp = orb.detect(imgCrop,None)\n",
    "    \n",
    "    x, y = prevX, prevY\n",
    "    if len(kp) != 0:\n",
    "        x, y = kp[0].pt\n",
    "        x += prevBotLeft[0]\n",
    "        y += prevBotLeft[1]\n",
    "    x, y = int(x), int(y)\n",
    "    prevX, prevY = x, y\n",
    "    botLeft = x - 50, y - 50\n",
    "    topRight = x + 50, y + 50\n",
    "    prevBotLeft, prevTopRight = botLeft, topRight\n",
    "    cv2.rectangle(img, botLeft, topRight, (0,255,0))\n",
    "    \n",
    "    \n",
    "    # draw only keypoints location,not size and orientation\n",
    "    img = cv2.drawKeypoints(img,kp,color=(0,255,0), flags=0)\n",
    "    \n",
    "    cv2.imshow('img', img)\n",
    "    \n",
    "    if cv2.waitKey(1) & 0xFF == ord('q'):\n",
    "        break\n",
    "        \n",
    "device.release()\n",
    "cv2.destroyAllWindows()"
   ]
  },
  {
   "cell_type": "code",
   "execution_count": 19,
   "metadata": {},
   "outputs": [
    {
     "data": {
      "text/plain": [
       "((0, 0), (480, 270), 240, 135)"
      ]
     },
     "execution_count": 19,
     "metadata": {},
     "output_type": "execute_result"
    }
   ],
   "source": [
    "prevBotLeft, prevTopRight, prevX, prevY "
   ]
  },
  {
   "cell_type": "code",
   "execution_count": 12,
   "metadata": {},
   "outputs": [
    {
     "data": {
      "text/plain": [
       "240"
      ]
     },
     "execution_count": 12,
     "metadata": {},
     "output_type": "execute_result"
    }
   ],
   "source": [
    "480 / 2"
   ]
  },
  {
   "cell_type": "code",
   "execution_count": 28,
   "metadata": {},
   "outputs": [
    {
     "data": {
      "text/plain": [
       "270"
      ]
     },
     "execution_count": 28,
     "metadata": {},
     "output_type": "execute_result"
    }
   ],
   "source": [
    "len(img)"
   ]
  },
  {
   "cell_type": "code",
   "execution_count": 38,
   "metadata": {},
   "outputs": [
    {
     "data": {
      "text/plain": [
       "2"
      ]
     },
     "execution_count": 38,
     "metadata": {},
     "output_type": "execute_result"
    }
   ],
   "source": [
    "len(img[:,:2][0])"
   ]
  },
  {
   "cell_type": "code",
   "execution_count": null,
   "metadata": {
    "collapsed": true
   },
   "outputs": [],
   "source": []
  }
 ],
 "metadata": {
  "kernelspec": {
   "display_name": "Python 2",
   "language": "python",
   "name": "python2"
  },
  "language_info": {
   "codemirror_mode": {
    "name": "ipython",
    "version": 2
   },
   "file_extension": ".py",
   "mimetype": "text/x-python",
   "name": "python",
   "nbconvert_exporter": "python",
   "pygments_lexer": "ipython2",
   "version": "2.7.14"
  }
 },
 "nbformat": 4,
 "nbformat_minor": 2
}
